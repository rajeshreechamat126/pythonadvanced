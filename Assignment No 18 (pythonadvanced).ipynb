{
 "cells": [
  {
   "cell_type": "markdown",
   "id": "ab9b44af",
   "metadata": {},
   "source": [
    "                                Assignment No 18 (pythonadvanced)\n",
    "                                "
   ]
  },
  {
   "cell_type": "code",
   "execution_count": null,
   "id": "6a204344",
   "metadata": {},
   "outputs": [],
   "source": []
  },
  {
   "cell_type": "markdown",
   "id": "d6b088c9",
   "metadata": {},
   "source": [
    "Que1. Describe the differences between text and binary files in a single paragraph.\n",
    "\n",
    "Ans:\n",
    "     The differences beween Text Files and Binary Files are:\n",
    "     \n",
    "     Text files are special subset of binary files that are used to store human readable charactetrs as a rich text document or      plain text doument. Text files also store data in aequential bytes but bits in text file represents characters. where          Binary files are those typical files that store data in the from of sequence of bytes grouped into eight bits or sometimes      sixteen bits. These bits represent custom data and such files can store multiple types of data (images, audio, text, etc)      under a single file.\n",
    "     "
   ]
  },
  {
   "cell_type": "code",
   "execution_count": null,
   "id": "6ef9c2e6",
   "metadata": {},
   "outputs": [],
   "source": []
  },
  {
   "cell_type": "markdown",
   "id": "6100c61e",
   "metadata": {},
   "source": [
    "Que2. What are some scenarios where using text files will be the better option? When would you like to use binary files instead       of text files?\n",
    "\n",
    "Ans:\n",
    "     Text files are less prone to get corrupted as any undesired change may just show up once the file is opend and then can        easily be removed whareas binary files can be used instead of text files for image data/video/audio. For many types of          data, binary representations are such more spance-efficient. For instance, you could represent an images as a text file.        But any color represented as a 24-bit RGB value in a binary file has to be represented as a six-character code \n",
    "     (e.g. FFFFFF for white) in text, which is literally twice as many bits. Anothe reason for using binary formats is that          they can map directly onto the internal representation of the data that the program is using. If my program uses a complex      data structure that's full of integer, float, and byte values, when I read it in from  a text file i have to parse every        character of text and interpret it, spending processing time (and writiong logic) to figure how to converrt the 88 bits in      \"2983102931\", into the 32-bit integer that the text represents. If I read from a binary file, the program just copies          those 32 bits from the file into memory.\n",
    "     "
   ]
  },
  {
   "cell_type": "code",
   "execution_count": null,
   "id": "4ace3f71",
   "metadata": {},
   "outputs": [],
   "source": [
    " "
   ]
  },
  {
   "cell_type": "markdown",
   "id": "6fb6ca9a",
   "metadata": {},
   "source": [
    "Que3. What are some of the issues with using binary operations to read and write a Python integer directly to disc?\n",
    "\n",
    "Ans:\n",
    "     When we read or write a python integer using binary operations\n",
    "     \n",
    "     1. Binary operations deal with raw data\n",
    "     \n",
    "     2. One needs to identify how many bytes one would read or write\n",
    "     "
   ]
  },
  {
   "cell_type": "code",
   "execution_count": null,
   "id": "4d5390c3",
   "metadata": {},
   "outputs": [],
   "source": []
  },
  {
   "cell_type": "markdown",
   "id": "e84b794f",
   "metadata": {},
   "source": [
    "Que4. Describe a benefit of using the with keyword instead of explicitly opening a file.\n",
    "\n",
    "Ans:\n",
    "     When a file is opened using the with keyword, it automatically the file if some exceptions occur after opening a file, or      at the end of the file. Thereby not leaving a file in open mode and also there would no need to explicitly close a file.        Using with means that the file will be closed as soon as you leave the block. This is beneficial because closing a file is      something that can easily be forgotten and tipes up resources that you no longer need.\n",
    "     "
   ]
  },
  {
   "cell_type": "code",
   "execution_count": null,
   "id": "95ad508d",
   "metadata": {},
   "outputs": [],
   "source": []
  },
  {
   "cell_type": "markdown",
   "id": "5d84c973",
   "metadata": {},
   "source": [
    "Que5. Does Python have the trailing newline while reading a line of text? Does Python append a newline when you write a line of       text?\n",
    "\n",
    "Ans:\n",
    "      Yes, Python have the trailing newline while reading a line of text. when we write, a newline has to be provided in python       explicitly to append a newline. Hence Python does not append a newline implicitly.\n",
    "      "
   ]
  },
  {
   "cell_type": "code",
   "execution_count": null,
   "id": "b1bb4b67",
   "metadata": {},
   "outputs": [],
   "source": []
  },
  {
   "cell_type": "markdown",
   "id": "66319cd6",
   "metadata": {},
   "source": [
    "Que6. What file operations enable for random-access operation?\n",
    "\n",
    "Ans:\n",
    "     The file operations enable for random-access operation are seek() and tell()\n",
    "     "
   ]
  },
  {
   "cell_type": "code",
   "execution_count": null,
   "id": "6bddd4d7",
   "metadata": {},
   "outputs": [],
   "source": []
  },
  {
   "cell_type": "markdown",
   "id": "e71de016",
   "metadata": {},
   "source": [
    "Que7. When do you think you&#39;ll use the struct package the most?\n",
    "\n",
    "Ans:\n",
    "     The struct package is mostly used while converting a common python language types into C language type.\n",
    "     "
   ]
  },
  {
   "cell_type": "code",
   "execution_count": null,
   "id": "d4aa6a42",
   "metadata": {},
   "outputs": [],
   "source": []
  },
  {
   "cell_type": "markdown",
   "id": "04b2abb8",
   "metadata": {},
   "source": [
    "Que8. When is pickling the best option?\n",
    "\n",
    "Ans:\n",
    "     Pickling is best option for creating a new binary file using python. Pickle in Python is primarily used in serializing and      deserializing a Python object structure. In other words, it's process of converting a Python object into a bytes stream to      store it in a file/database, maintain program state across sessions, or transport data over the network. The pickled bytes      steram can be used to re-create the original object hierarchy bt unpickling the stream. This whole process is similar to        object serialization in java or.Net.\n",
    "     "
   ]
  },
  {
   "cell_type": "code",
   "execution_count": null,
   "id": "1ae27702",
   "metadata": {},
   "outputs": [],
   "source": []
  },
  {
   "cell_type": "markdown",
   "id": "6fde61b0",
   "metadata": {},
   "source": [
    "Que9. When will it be best to use the shelve package?\n",
    "\n",
    "Ans:\n",
    "     Shelve package is used to pickle data but treats the entire file as dictionary. A \"shelf\" is a persistent, dictionary-like      object. The difference with \"dbm\" databases is that the values (not the keys) in a shelf can be essentially arbitray            Python objects -- anything that the pickle module can handle. This includes most class instances, recursive data types,        and objects containing lots of shared sub-objects. The keys are ordinary strings.\n",
    "     \n",
    "     Syntax: shelve.open(filename, flag='c', protocol=None, writeback=False\n",
    "     "
   ]
  },
  {
   "cell_type": "code",
   "execution_count": null,
   "id": "67aa32e0",
   "metadata": {},
   "outputs": [],
   "source": []
  },
  {
   "cell_type": "markdown",
   "id": "a0e8ffe0",
   "metadata": {},
   "source": [
    "Que10. What is a special restriction when using the shelve package, as opposed to using other data dictionaries?\n",
    "\n",
    "Ans:\n",
    "     Only string data type can be used as key in this special dictionary (shelvepackage obect, whereas any pickle Python object      can be used as value.\n",
    "     "
   ]
  },
  {
   "cell_type": "code",
   "execution_count": null,
   "id": "77db86d9",
   "metadata": {},
   "outputs": [],
   "source": []
  }
 ],
 "metadata": {
  "kernelspec": {
   "display_name": "Python 3 (ipykernel)",
   "language": "python",
   "name": "python3"
  },
  "language_info": {
   "codemirror_mode": {
    "name": "ipython",
    "version": 3
   },
   "file_extension": ".py",
   "mimetype": "text/x-python",
   "name": "python",
   "nbconvert_exporter": "python",
   "pygments_lexer": "ipython3",
   "version": "3.9.13"
  }
 },
 "nbformat": 4,
 "nbformat_minor": 5
}
