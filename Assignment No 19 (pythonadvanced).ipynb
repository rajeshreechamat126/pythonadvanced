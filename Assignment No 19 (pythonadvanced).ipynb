{
 "cells": [
  {
   "cell_type": "markdown",
   "id": "804722d8",
   "metadata": {},
   "source": [
    "                                     Assignment No 19 (pythonadvanced)\n",
    "                                     "
   ]
  },
  {
   "cell_type": "code",
   "execution_count": null,
   "id": "f0ad2bd3",
   "metadata": {},
   "outputs": [],
   "source": []
  },
  {
   "cell_type": "markdown",
   "id": "fb9ba07a",
   "metadata": {},
   "source": [
    "Que1. Define the relationship between a class and its instances. Is it a one-to-one or a one-to-many partnership, for example?\n",
    "\n",
    "Ans:\n",
    "     Relationship between a class and its instances is a  one to many partnership. Object is a physical entity or real word          entity. An object occupies space in memory. Example:- banana,Chair,pen etc objects. Class is a logical entity which does        not exist in real world. Or we can say that class is a blueprint to create objects of similiar types. A class does not          take space in memory. Example:-Fruits, furniture, vehicles etc.\n",
    "     "
   ]
  },
  {
   "cell_type": "code",
   "execution_count": null,
   "id": "a20d85cc",
   "metadata": {},
   "outputs": [],
   "source": []
  },
  {
   "cell_type": "markdown",
   "id": "b8c5333c",
   "metadata": {},
   "source": [
    "Que2. What kind of data is held only in an instance?\n",
    "\n",
    "Ans:\n",
    "     Instance objects contains the Instance variables which are specific to that specific Instance object.\n",
    "     "
   ]
  },
  {
   "cell_type": "code",
   "execution_count": null,
   "id": "d17691e7",
   "metadata": {},
   "outputs": [],
   "source": []
  },
  {
   "cell_type": "markdown",
   "id": "594df637",
   "metadata": {},
   "source": [
    "Que3. What kind of knowledge is stored in a class?\n",
    "\n",
    "Ans: \n",
    "     Class creates a user-defined data structure, which holds its own data members and member functions, which can be accessed      and used by creating an instance of that class. A class is like a blueprint for an object. Class is a logical entity which      does not exist in real world Or we can say that class is a blueprint to create objects of similiar types. A class does not      take space in memory. Example:- fruits,furniture,vehicles etc.\n",
    "     "
   ]
  },
  {
   "cell_type": "code",
   "execution_count": null,
   "id": "4801faec",
   "metadata": {},
   "outputs": [],
   "source": []
  },
  {
   "cell_type": "markdown",
   "id": "c878316b",
   "metadata": {},
   "source": [
    "Que4. What exactly is a method, and how is it different from a regular function?\n",
    "\n",
    "Ans:\n",
    "      The methods with a class can be used to access the instance variables of its instance. So, the object's state can be           modified by its method. Function can't access the attributes of an instance of a class or can't modify the state of the         object. A Function is independent, whereas a method is a function liked with an object. Explicit data is passed on to a         function, whears a method completely passes the object on which it was called in the program. A method is Object-               Oriented-Programming while a function has standalone functionality.\n",
    "      "
   ]
  },
  {
   "cell_type": "code",
   "execution_count": null,
   "id": "12c18605",
   "metadata": {},
   "outputs": [],
   "source": []
  },
  {
   "cell_type": "markdown",
   "id": "f3667516",
   "metadata": {},
   "source": [
    "Que5. Is inheritance supported in Python, and if so, what is the syntax?\n",
    "\n",
    "Ans:\n",
    "     Yes, Python supports inheritance. The Types of inheritence Supported by Python are:\n",
    "     \n",
    "     1. Simple Inheritance\n",
    "     \n",
    "     2. Multiple Inheritance\n",
    "     \n",
    "     3. Multilevel IInheritence\n",
    "     \n",
    "     4. Hybrid Inheritance\n",
    "     \n",
    "     5. Hierracial Inheritence\n",
    "     "
   ]
  },
  {
   "cell_type": "code",
   "execution_count": 1,
   "id": "12ba0817",
   "metadata": {},
   "outputs": [],
   "source": [
    "class Person:\n",
    "    def __init__(self, fname, lname):\n",
    "        self.first_name = fname\n",
    "        self.last_name = lname\n",
    "class Student(Person):\n",
    "    pass\n"
   ]
  },
  {
   "cell_type": "code",
   "execution_count": null,
   "id": "da8799a2",
   "metadata": {},
   "outputs": [],
   "source": []
  },
  {
   "cell_type": "markdown",
   "id": "32490eea",
   "metadata": {},
   "source": [
    "Que6. How much encapsulation (making instance or class variables private) does Python support?\n",
    "\n",
    "Ans:\n",
    "     Encapsulation describes the idea of wrapping data and the methods that work on data within one unit. This puts                  restrictions on accessing variables and methods directly and can prevent the accidental modification of data. To prevent        accidental change, an objects variable can only be changed by an objects method.\n"
   ]
  },
  {
   "cell_type": "code",
   "execution_count": null,
   "id": "2cb87125",
   "metadata": {},
   "outputs": [],
   "source": []
  },
  {
   "cell_type": "markdown",
   "id": "f5780170",
   "metadata": {},
   "source": [
    "Que7. How do you distinguish between a class variable and an instance variable?\n",
    "\n",
    "Ans:\n",
    "     The Class Attribute is available to all the instance objects of that class whereas Instance Attributes are accessible only      to the object or Instance of that class.\n",
    "\n",
    "     A single copy of Class attributes is maintained by pvm at the class level Whereas different copies of instance attributes      are maintained by pvm at objects/instance level.\n",
    "\n"
   ]
  },
  {
   "cell_type": "code",
   "execution_count": null,
   "id": "3707aab9",
   "metadata": {},
   "outputs": [],
   "source": []
  },
  {
   "cell_type": "markdown",
   "id": "6ffac402",
   "metadata": {},
   "source": [
    "Que8. When, if ever, can self be included in a class's method definitions?\n",
    "\n",
    "Ans:\n",
    "     Yes, self can be included in class method definitions to access the instance variables inside class methods.\n",
    "     "
   ]
  },
  {
   "cell_type": "code",
   "execution_count": null,
   "id": "9eae8c6b",
   "metadata": {},
   "outputs": [],
   "source": []
  },
  {
   "cell_type": "markdown",
   "id": "443a014a",
   "metadata": {},
   "source": [
    "Que9. What is the difference between the _ _add_ _ and the _ _radd_ _ methods?\n",
    "\n",
    "Ans:\n",
    "     Entering radd Python will first try add(), and if that returns Not Implemented Python will check if the right-hand operand      implements radd, and if it does, it will call radd() rather than raising a TypeError.\n",
    "\n",
    "     The expression a+b is internally translated to the method call a.add(b). But if a and b are of different types, it is          possible that a's implementation of addition cannot deal with objects of b's type (or maybe a does not have a add method,      at all). So, if a.add(b) fails, Python tries b.radd(a) instead, to see if b's implementation can deal with objects of a's      type.\n"
   ]
  },
  {
   "cell_type": "code",
   "execution_count": null,
   "id": "29dbaf25",
   "metadata": {},
   "outputs": [],
   "source": []
  },
  {
   "cell_type": "markdown",
   "id": "b5c983c6",
   "metadata": {},
   "source": [
    "Que10. When is it necessary to use a reflection method? When do you not need it, even though you support the operation in              question?\n",
    "Ans:\n",
    "     Reflection refers to the ability for code to be able to examine attributes about objects that might be passed as                parameters to a function. For example, if we write type(obj) then Python will return an object which represents the type        of obj. Using reflection, we can write one recursive reverse function that will work for strings, lists, and any other          sequence that supports slicing and concatenation. If an obj is a reference to a string, then Python will return the str        type object. Further, if we write str() we get a string which is the empty string. In other words, writing str() is the        same thing as writing “”. Likewise, writing list() is the same thing as writing [].\n"
   ]
  },
  {
   "cell_type": "code",
   "execution_count": 1,
   "id": "c5ee3744",
   "metadata": {},
   "outputs": [
    {
     "name": "stdout",
     "output_type": "stream",
     "text": [
      "x is not callable\n",
      "y is callable\n"
     ]
    }
   ],
   "source": [
    "x = 5\n",
    "\n",
    "def testFunction():\n",
    "    print(\"Test\")\n",
    "    \n",
    "y = testFunction\n",
    "\n",
    "if (callable(x)):\n",
    "    print(\"x is callable\")\n",
    "else:\n",
    "    print(\"x is not callable\")\n",
    "    \n",
    "if (callable(y)):\n",
    "    print(\"y is callable\")\n",
    "else:\n",
    "    print(\"y is not callable\")\n",
    "    "
   ]
  },
  {
   "cell_type": "code",
   "execution_count": null,
   "id": "e367c7c0",
   "metadata": {},
   "outputs": [],
   "source": []
  },
  {
   "cell_type": "markdown",
   "id": "5a4ba3fa",
   "metadata": {},
   "source": [
    "Que11. What is the _ _iadd_ _ method called?\n",
    "\n",
    "Ans:\n",
    "     iadd method is called when we use implementation like a+=b which is a.iadd(b)\n",
    "     "
   ]
  },
  {
   "cell_type": "code",
   "execution_count": null,
   "id": "2d71076e",
   "metadata": {},
   "outputs": [],
   "source": []
  },
  {
   "cell_type": "markdown",
   "id": "272a7776",
   "metadata": {},
   "source": [
    "Que12. Is the _ _init_ _ method inherited by subclasses? What do you do if you need to customize its behavior within a                subclass?\n",
    "\n",
    "Ans:\n",
    "     Yes, init method will be inherited by subclasses. if we want to customize its behaviour within a subclass,we can use            super() method.\n",
    "     "
   ]
  },
  {
   "cell_type": "code",
   "execution_count": null,
   "id": "691e965a",
   "metadata": {},
   "outputs": [],
   "source": []
  }
 ],
 "metadata": {
  "kernelspec": {
   "display_name": "Python 3 (ipykernel)",
   "language": "python",
   "name": "python3"
  },
  "language_info": {
   "codemirror_mode": {
    "name": "ipython",
    "version": 3
   },
   "file_extension": ".py",
   "mimetype": "text/x-python",
   "name": "python",
   "nbconvert_exporter": "python",
   "pygments_lexer": "ipython3",
   "version": "3.9.13"
  }
 },
 "nbformat": 4,
 "nbformat_minor": 5
}
